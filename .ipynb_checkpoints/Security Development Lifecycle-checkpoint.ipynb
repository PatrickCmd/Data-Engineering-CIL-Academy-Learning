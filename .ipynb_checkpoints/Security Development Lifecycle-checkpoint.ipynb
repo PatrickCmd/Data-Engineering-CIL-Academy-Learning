{
 "cells": [
  {
   "cell_type": "markdown",
   "id": "136c6f51",
   "metadata": {},
   "source": [
    "# Secure Development Lifecycle\n",
    "\n",
    "**Resource**: https://techbeacon.com/security/secure-development-lifecycle-essential-guide-safe-software-pipelines\n",
    "\n",
    "**SDL Explained**: https://www.youtube.com/watch?v=mRe3vLBpCJI"
   ]
  },
  {
   "cell_type": "markdown",
   "id": "04354e9f",
   "metadata": {},
   "source": [
    "# Microsoft SDL practices\n",
    "\n",
    "**Resource**: https://www.microsoft.com/en-us/securityengineering/sdl/practices\n",
    "\n",
    "- The Security Development Lifecycle (SDL) consists of a set of practices that support security assurance and compliance requirements. The SDL helps developers build more secure software by reducing the number and severity of vulnerabilities in software, while reducing development cost. \n",
    "\n",
    "\n",
    "## Security Development Lifecycle (SDL) Practices\n",
    "\n",
    "1. Practice #1 - Provide Training\n",
    "2. Practice #2 - Define Security Requirements\n",
    "3. Practice #3 - Define Metrics and Compliance Reporting \n",
    "4. Practice #4 - Perform Threat Modeling\n",
    "    - **There are five major threat modeling steps**:\n",
    "    ![Thread Modeling](https://img-prod-cms-rt-microsoft-com.akamaized.net/cms/api/am/imageFileData/RE2K1Za?ver=0327&q=90&m=8&h=450&w=800&b=%23FFFFFFFF&l=f&x=0&y=79&s=1709&d=961&aim=true)\n",
    "        - Defining security requirements. \n",
    "        - Creating an application diagram. \n",
    "        - Identifying threats. \n",
    "        - Mitigating threats. \n",
    "        - Validating that threats have been mitigated. \n",
    "5. Practice #5 - Establish Design Requirements\n",
    "6. Practice #6 - Define and Use Cryptography Standards\n",
    "7. Practice #7 - Manage the Security Risk of Using Third-Party Components\n",
    "8. Practice #8 - Use Approved Tools\n",
    "9. Practice #9 - Perform Static Analysis Security Testing (SAST)\n",
    "10. Practice #10 - Perform Dynamic Analysis Security Testing (DAST)\n",
    "11. Practice #11 - Perform Penetration Testing\n",
    "12. Practice #12 - Establish a Standard Incident Response Process "
   ]
  },
  {
   "cell_type": "markdown",
   "id": "9d7757c3",
   "metadata": {},
   "source": [
    "# Cisco Secure Development LifeCycle\n",
    "\n",
    "**Resource**: https://www.cisco.com/c/dam/en_us/about/doing_business/trust-center/docs/cisco-secure-development-lifecycle.pdf"
   ]
  },
  {
   "cell_type": "code",
   "execution_count": null,
   "id": "d521542a",
   "metadata": {},
   "outputs": [],
   "source": []
  }
 ],
 "metadata": {
  "kernelspec": {
   "display_name": "saturn (Python 3)",
   "language": "python",
   "name": "python3"
  },
  "language_info": {
   "codemirror_mode": {
    "name": "ipython",
    "version": 3
   },
   "file_extension": ".py",
   "mimetype": "text/x-python",
   "name": "python",
   "nbconvert_exporter": "python",
   "pygments_lexer": "ipython3",
   "version": "3.9.13"
  }
 },
 "nbformat": 4,
 "nbformat_minor": 5
}
