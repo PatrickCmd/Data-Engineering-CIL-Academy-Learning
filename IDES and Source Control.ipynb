{
 "cells": [
  {
   "cell_type": "markdown",
   "id": "79cbed99",
   "metadata": {},
   "source": [
    "# IDEs and Source Control\n",
    "\n",
    "\n",
    "## IDEs (Local and Cloud IDEs)\n",
    "\n",
    "- [**What Is An IDE (Integrated Development Environment)**](https://aws.amazon.com/what-is/ide/)\n",
    "- [**Getting Started With Visual Studio Code**](https://medium.com/codingthesmartway-com-blog/getting-started-with-visual-studio-code-5f56eef810e1)\n",
    "- [**AWS Cloud9**](https://medium.com/cloudwithmore/aws-cloud9-6126a769a02a)\n",
    "- [**Gitpod**](https://www.gitpod.io/)\n",
    "- [**Github CodeSpaces**](https://github.com/features/codespaces)\n",
    "\n",
    "\n",
    "## Source Control\n",
    "- [**SVN tutorial**](https://www.tutorialspoint.com/svn/svn_basic_concepts.htm)\n",
    "- [**A Visual Guide to Version Control**](https://betterexplained.com/articles/a-visual-guide-to-version-control/)\n",
    "- [**Source Control HOWTO**](https://ericsink.com/scm/source_control.html)\n",
    "\n",
    "\n",
    "### Git\n",
    "\n",
    "- [**Understanding Git Conceptually (Recommended Reading)**](https://www.cduan.com/technical/git/)\n",
    "-[**Git tutorials and training**](https://www.atlassian.com/git/tutorials)\n",
    "- [**Git & Github crash course for beginners**](https://www.youtube.com/watch?v=SWYqp7iY_Tc)\n",
    "- [**Introduction to Git and Github**](https://www.youtube.com/watch?v=3fUbBnN_H2c)\n",
    "\n",
    "### Patrick's Notes\n",
    "1. [**Version Control**](https://nbviewer.org/github/PatrickCmd/Programming-for-Data-Science/blob/master/Git%20Version%20Control.ipynb)\n",
    "2. [**Git Remote Repositories**](https://nbviewer.org/github/PatrickCmd/Programming-for-Data-Science/blob/master/Git%20Working%20With%20Remotes.ipynb)\n",
    "3. [**Git Staying In Sync With A Remote Repository**](https://nbviewer.org/github/PatrickCmd/Programming-for-Data-Science/blob/master/Git%20Staying%20In%20Sync%20With%20A%20Remote%20Repository.ipynb)\n",
    "4. [**Git Working On Another Developer Repository**](https://nbviewer.org/github/PatrickCmd/Programming-for-Data-Science/blob/master/Git%20Working%20On%20Another%20Developer%20Repository.ipynb)\n",
    "5. [**Git Tagging Branching and Merging**](https://nbviewer.org/github/PatrickCmd/Programming-for-Data-Science/blob/master/Git%20Tagging%20Branching%20and%20Merging.ipynb)\n",
    "6. [**Git Undoing changes**](https://nbviewer.org/github/PatrickCmd/Programming-for-Data-Science/blob/master/Git%20Undoing%20changes.ipynb)\n",
    "7. [**Git Review A Repos History**](https://nbviewer.org/github/PatrickCmd/Programming-for-Data-Science/blob/master/Git%20Review%20A%20Repos%20History.ipynb)"
   ]
  },
  {
   "cell_type": "markdown",
   "id": "37081d47",
   "metadata": {},
   "source": [
    "## Individual Project:\n",
    "\n",
    "- Install visual studio code on your computer\n",
    "    https://code.visualstudio.com/\n",
    "- Create a simple code file using the visual studio code installed (any programming language is fine)\n",
    "- \n"
   ]
  },
  {
   "cell_type": "code",
   "execution_count": 2,
   "id": "169870a3",
   "metadata": {},
   "outputs": [
    {
     "name": "stdout",
     "output_type": "stream",
     "text": [
      "0\n",
      "0\n",
      "-1\n",
      "5\n",
      "1\n",
      "1\n",
      "-2\n",
      "4\n",
      "2\n",
      "2\n",
      "-3\n",
      "3\n"
     ]
    }
   ],
   "source": [
    "# Fun with Ranges - range(start, stop, step)\n",
    "A = [0,1,2,3,4,5]\n",
    "\n",
    "for i in range(len(A)//2): # A = [0,1,2,3,4,5]\n",
    "  print(i) # 0,1,2\n",
    "  print(A[i]) # 0,1,2\n",
    "  print(~i) # -1,-2,-3\n",
    "  print(A[~i]) # 5,4,3"
   ]
  },
  {
   "cell_type": "code",
   "execution_count": null,
   "id": "e32dd3f0",
   "metadata": {},
   "outputs": [],
   "source": []
  }
 ],
 "metadata": {
  "kernelspec": {
   "display_name": "saturn (Python 3)",
   "language": "python",
   "name": "python3"
  },
  "language_info": {
   "codemirror_mode": {
    "name": "ipython",
    "version": 3
   },
   "file_extension": ".py",
   "mimetype": "text/x-python",
   "name": "python",
   "nbconvert_exporter": "python",
   "pygments_lexer": "ipython3",
   "version": "3.9.13"
  }
 },
 "nbformat": 4,
 "nbformat_minor": 5
}
