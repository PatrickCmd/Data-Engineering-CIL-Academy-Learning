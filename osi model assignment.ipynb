{
 "cells": [
  {
   "cell_type": "markdown",
   "id": "97e94bf3",
   "metadata": {},
   "source": [
    "## Individual Project: \n",
    "\n",
    "#### In a one page document, compare the OSI model to any day to day layered process you know.\n",
    "\n",
    "\n",
    "The OSI model, or Open Systems Interconnection model, is a conceptual framework used to describe how data communication occurs between different computer systems. It is composed of seven layers, each of which represents a different stage in the communication process.\n",
    "\n",
    "To compare the OSI model to a day-to-day layered process, let's consider the process of making a sandwich. This may seem like a simple task, but like the OSI model, it involves multiple layers.\n",
    "\n",
    "A **sandwich** is a food typically consisting of vegetables, sliced cheese or meat, placed on or between slices of bread, or more generally any dish wherein bread serves as a container or wrapper for another food type.\n",
    "\n",
    "**Layer 1**: Physical Layer - The first layer of the OSI model deals with the physical aspects of communication, such as cables and connectors. In the sandwich-making process, this layer would include the physical items needed to make a sandwich, such as bread, meat, cheese, and vegetables.\n",
    "\n",
    "**Layer 2**: Data Link Layer - The second layer of the OSI model ensures that data is transmitted without errors. In the sandwich-making process, this layer would involve checking that all the ingredients are fresh and not expired.\n",
    "\n",
    "**Layer 3**: Network Layer - The third layer of the OSI model is responsible for routing data between different networks. In the sandwich-making process, this layer would involve deciding which type of sandwich to make and which ingredients to use depending on the order by a given client or customer.\n",
    "\n",
    "**Layer 4**: Transport Layer - The fourth layer of the OSI model deals with the transport of data between devices. The transport layer would be responsible for determining what and how much information is transferred between presentation and application layer, for example the operating system and the web server in this case. In the sandwich-making process, this layer would involve assembling the sandwich in a particular order, such as bread, meat, cheese, and vegetables and how much quantity of all the ingredients to add in the sandwich, then serving it to the client who orderd it.\n",
    "\n",
    "**Layer 5**: Session Layer - The fifth layer of the OSI model establishes and manages connections between devices. In the sandwich-making process, this layer would involve deciding who will eat the sandwich and where it will be eaten. Is it a take away or is to be delivered to clients destination or is the person to take sandwich from the place of ordering for example restaurant cafe.\n",
    "\n",
    "**Layer 6**: Presentation Layer - The sixth layer of the OSI model ensures that data is presented in a format that can be understood by both the sender and the receiver. In the sandwich-making process, this layer would involve presenting the sandwich in an attractive and appetizing way.\n",
    "\n",
    "**Layer 7**: Application Layer - The seventh and final layer of the OSI model deals with the specific applications that are being used to communicate. In the sandwich-making process, this layer would involve selecting the type of sandwich that is desired and any additional condiments (salt, chili or any other flavors) or toppings.\n",
    "\n",
    "In conclusion, just like the OSI model, many everyday processes involve multiple layers of abstraction and complexity. By breaking down these processes into individual layers, it becomes easier to understand and manage them effectively."
   ]
  },
  {
   "cell_type": "code",
   "execution_count": null,
   "id": "18f00859",
   "metadata": {},
   "outputs": [],
   "source": []
  }
 ],
 "metadata": {
  "kernelspec": {
   "display_name": "saturn (Python 3)",
   "language": "python",
   "name": "python3"
  },
  "language_info": {
   "codemirror_mode": {
    "name": "ipython",
    "version": 3
   },
   "file_extension": ".py",
   "mimetype": "text/x-python",
   "name": "python",
   "nbconvert_exporter": "python",
   "pygments_lexer": "ipython3",
   "version": "3.9.13"
  }
 },
 "nbformat": 4,
 "nbformat_minor": 5
}
